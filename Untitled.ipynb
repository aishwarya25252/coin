{
 "cells": [
  {
   "cell_type": "code",
   "execution_count": 1,
   "metadata": {},
   "outputs": [],
   "source": [
    "import numpy as np\n",
    "import pandas as pd\n",
    "from importlib import *"
   ]
  },
  {
   "cell_type": "code",
   "execution_count": 2,
   "metadata": {},
   "outputs": [],
   "source": [
    "from GeneSet import *\n",
    "import network"
   ]
  },
  {
   "cell_type": "code",
   "execution_count": 3,
   "metadata": {},
   "outputs": [],
   "source": [
    "data1=pd.read_csv(\"C:\\\\Users\\\\AISH-pc\\\\project\\\\GSE19615_series_matrix.csv\")\n",
    "data2=pd.read_csv(\"C:\\\\Users\\\\AISH-pc\\\\project\\\\GSE2034_series_matrix.csv\")\n",
    "data3=pd.read_csv(\"C:\\\\Users\\\\AISH-pc\\\\project\\\\GSE20194_series_matrix.csv\")\n",
    "data4=pd.read_csv(\"C:\\\\Users\\\\AISH-pc\\\\project\\\\GSE12093_series_matrix.csv\")\n",
    "data5=pd.read_csv(\"C:\\\\Users\\\\AISH-pc\\\\project\\\\GSE16391_series_matrix.csv\")\n",
    "data6=pd.read_csv(\"C:\\\\Users\\\\AISH-pc\\\\project\\\\GSE16446_series_matrix.csv\")\n",
    "data7=pd.read_csv(\"C:\\\\Users\\\\AISH-pc\\\\project\\\\GSE17705_series_matrix.csv\")\n",
    "data8=pd.read_csv(\"C:\\\\Users\\\\AISH-pc\\\\project\\\\GSE20181_series_matrix.csv\")\n",
    "data9=pd.read_csv(\"C:\\\\Users\\\\AISH-pc\\\\project\\\\GSE20194_series_matrix.csv\")\n",
    "data10=pd.read_csv(\"C:\\\\Users\\\\AISH-pc\\\\project\\\\GSE25055_series_matrix.csv\")\n",
    "data11=pd.read_csv(\"C:\\\\Users\\\\AISH-pc\\\\project\\\\GSE25065_series_matrix.csv\")\n",
    "data12=pd.read_csv(\"C:\\\\Users\\\\AISH-pc\\\\project\\\\GSE32646_series_matrix.csv\")"
   ]
  },
  {
   "cell_type": "code",
   "execution_count": 4,
   "metadata": {},
   "outputs": [],
   "source": [
    "g=GeneSet([data1,data3,data2,data4,data5,data6,data7,data8,data9,data10,data11,data12],0,60,pd)"
   ]
  },
  {
   "cell_type": "code",
   "execution_count": 5,
   "metadata": {},
   "outputs": [
    {
     "data": {
      "text/plain": [
       "335"
      ]
     },
     "execution_count": 5,
     "metadata": {},
     "output_type": "execute_result"
    }
   ],
   "source": [
    "len(g.finalGeneSet)"
   ]
  },
  {
   "cell_type": "code",
   "execution_count": 6,
   "metadata": {},
   "outputs": [
    {
     "data": {
      "text/plain": [
       "<module 'network' from 'C:\\\\Users\\\\AISH-pc\\\\PycharmProjects\\\\coin\\\\network.py'>"
      ]
     },
     "execution_count": 6,
     "metadata": {},
     "output_type": "execute_result"
    }
   ],
   "source": [
    "reload(network)"
   ]
  },
  {
   "cell_type": "code",
   "execution_count": null,
   "metadata": {},
   "outputs": [],
   "source": [
    "a,b,c=network.network(g.dataSets,10,[2,3,4,5,6,7,8],g.finalGeneSet)"
   ]
  },
  {
   "cell_type": "code",
   "execution_count": null,
   "metadata": {},
   "outputs": [],
   "source": [
    "a"
   ]
  },
  {
   "cell_type": "code",
   "execution_count": null,
   "metadata": {},
   "outputs": [],
   "source": [
    "b"
   ]
  },
  {
   "cell_type": "code",
   "execution_count": null,
   "metadata": {},
   "outputs": [],
   "source": [
    "len(c)"
   ]
  },
  {
   "cell_type": "code",
   "execution_count": null,
   "metadata": {},
   "outputs": [],
   "source": [
    "a"
   ]
  },
  {
   "cell_type": "code",
   "execution_count": null,
   "metadata": {},
   "outputs": [],
   "source": [
    "c[2].parent.k"
   ]
  },
  {
   "cell_type": "code",
   "execution_count": null,
   "metadata": {},
   "outputs": [],
   "source": [
    "from sklearn.cluster import KMeans\n",
    "import numpy as np\n",
    "X = np.array([[1, 2,3], [1, 4,5], [1, 0,4],\n",
    "              [10, 2,7], [10, 4,6], [10, 0,3]])\n",
    "kmeans = KMeans(n_clusters=2, random_state=0).fit(X)"
   ]
  },
  {
   "cell_type": "code",
   "execution_count": null,
   "metadata": {},
   "outputs": [],
   "source": [
    "kmeans.labels_"
   ]
  },
  {
   "cell_type": "code",
   "execution_count": null,
   "metadata": {},
   "outputs": [],
   "source": [
    "kmeans.predict([[8, 9,5], [12, 3,3]])"
   ]
  },
  {
   "cell_type": "code",
   "execution_count": null,
   "metadata": {},
   "outputs": [],
   "source": [
    "kmeans.cluster_centers_"
   ]
  },
  {
   "cell_type": "code",
   "execution_count": null,
   "metadata": {},
   "outputs": [],
   "source": [
    "X.shape"
   ]
  },
  {
   "cell_type": "code",
   "execution_count": null,
   "metadata": {},
   "outputs": [],
   "source": []
  }
 ],
 "metadata": {
  "kernelspec": {
   "display_name": "Python 3",
   "language": "python",
   "name": "python3"
  },
  "language_info": {
   "codemirror_mode": {
    "name": "ipython",
    "version": 3
   },
   "file_extension": ".py",
   "mimetype": "text/x-python",
   "name": "python",
   "nbconvert_exporter": "python",
   "pygments_lexer": "ipython3",
   "version": "3.8.2"
  }
 },
 "nbformat": 4,
 "nbformat_minor": 4
}
